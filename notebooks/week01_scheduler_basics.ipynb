{
 "cells": [
  {
   "cell_type": "markdown",
   "id": "479e91dc",
   "metadata": {},
   "source": [
    "# Week 01 — Scheduler Basics\n",
    "\n",
    "In diesem Notebook lernen Sie die grundlegende Idee eines CPU-Schedulers kennen.\n",
    "Sie sehen eine Referenz-Implementierung (FIFO) und können eine eigene\n",
    "Implementierung in `src/student/scheduler.py` ergänzen.\n",
    "\n",
    "**Ziele**\n",
    "- Verstehen, was ein Scheduler tut\n",
    "- Eine einfache FIFO-Strategie verstehen und testen\n",
    "- Ausprobieren der Referenz-Implementation\n"
   ]
  },
  {
   "cell_type": "code",
   "execution_count": null,
   "id": "1e6d5a97",
   "metadata": {},
   "outputs": [],
   "source": [
    "# Demo: run reference FIFO scheduler\n",
    "from src.reference.scheduler import FifoScheduler, Process\n",
    "s = FifoScheduler()\n",
    "procs = [Process(pid=1), Process(pid=2), Process(pid=3)]\n",
    "print('Ready queue pids:', [p.pid for p in procs])\n",
    "chosen = s.schedule(procs)\n",
    "print('Scheduled PID:', chosen.pid if chosen else None)\n"
   ]
  },
  {
   "cell_type": "markdown",
   "id": "acd9a1f7",
   "metadata": {},
   "source": [
    "## Aufgabe: Student-FIFO implementieren\n",
    "\n",
    "Implementieren Sie in `src/student/scheduler.py` eine Klasse `StudentFifoScheduler`\n",
    "mit der Methode `schedule(self, processes)`.\n",
    "\n",
    "Die Signatur der Process-Dataclass ist bereits vorhanden in `src/student/scheduler.py`.\n",
    "\n",
    "Sobald Sie implementiert haben, führen Sie die folgende Zelle aus, um Ihre Implementierung zu testen.\n"
   ]
  },
  {
   "cell_type": "code",
   "execution_count": null,
   "id": "585f7f2b",
   "metadata": {},
   "outputs": [],
   "source": [
    "# Test student implementation (if present)\n",
    "try:\n",
    "    from src.student.scheduler import StudentFifoScheduler, Process as SProcess\n",
    "    s = StudentFifoScheduler()\n",
    "    procs = [SProcess(pid=10), SProcess(pid=11)]\n",
    "    chosen = s.schedule(procs)\n",
    "    print('Student scheduled PID:', chosen.pid if chosen else None)\n",
    "except Exception as e:\n",
    "    print('Student implementation not present or raised error:', e)\n"
   ]
  },
  {
   "cell_type": "markdown",
   "id": "35edd454",
   "metadata": {},
   "source": [
    "### Weiterführende Ideen\n",
    "\n",
    "- Visualisieren Sie die Ready-Queue als Animation (matplotlib).\n",
    "- Experimentieren Sie mit Prioritäten: erweitern Sie `schedule` um einfache Priority-Scheduling.\n",
    "- Diskutieren Sie Vor- und Nachteile von FIFO vs Round-Robin.\n"
   ]
  }
 ],
 "metadata": {},
 "nbformat": 4,
 "nbformat_minor": 5
}
